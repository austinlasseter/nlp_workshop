{
 "cells": [
  {
   "cell_type": "markdown",
   "metadata": {},
   "source": [
    "# Logging\n",
    "\n",
    "##### author: Alex Sherman | alsherman@deloitte.com\n",
    "    \n",
    "#### Sources:\n",
    "- https://docs.python.org/2/howto/logging.html\n",
    "- http://docs.python-guide.org/en/latest/writing/logging/"
   ]
  },
  {
   "cell_type": "code",
   "execution_count": 1,
   "metadata": {},
   "outputs": [
    {
     "data": {
      "text/html": [
       "<iframe src=http://docs.python-guide.org/en/latest/writing/logging/ width=1100 height=300></iframe>"
      ],
      "text/plain": [
       "<IPython.core.display.HTML object>"
      ]
     },
     "execution_count": 1,
     "metadata": {},
     "output_type": "execute_result"
    }
   ],
   "source": [
    "from IPython.core.display import display, HTML\n",
    "sqlalchemy_url = 'http://docs.python-guide.org/en/latest/writing/logging/'\n",
    "iframe = '<iframe src={} width=1100 height=300></iframe>'.format(sqlalchemy_url)\n",
    "HTML(iframe)"
   ]
  },
  {
   "cell_type": "markdown",
   "metadata": {},
   "source": [
    "With logging you can control which messages to display (filtering out unimportant messages with logging levels), when to display messages, how to format messages (logging format), and where to output messages (sending different messages to differnt locations with logging handlers)\n",
    "\n",
    "##### Logging serves two purposes:\n",
    "- Diagnostic logging records events related to the application’s operation. If a user calls in to report an error, for example, the logs can be searched for context.\n",
    "- Audit logging records events for business analysis. A user’s transactions can be extracted and combined with other user details for reports or to optimize a business goal.\n",
    "\n",
    "The are numerous ways to set up a logging file. We will use a separate file named logging_config.ini to configure all of the logging settings. Then we will import these settings into a instantiated logger in our python script."
   ]
  },
  {
   "cell_type": "raw",
   "metadata": {},
   "source": [
    "### Example logging_config.ini\n",
    "\n",
    "[loggers]\n",
    "keys=root\n",
    "\n",
    "[handlers]\n",
    "keys=stream_handler\n",
    "\n",
    "[formatters]\n",
    "keys=formatter\n",
    "\n",
    "[logger_root]\n",
    "level=DEBUG\n",
    "handlers=stream_handler\n",
    "\n",
    "[handler_stream_handler]\n",
    "class=StreamHandler\n",
    "level=DEBUG\n",
    "formatter=formatter\n",
    "args=(sys.stderr,)\n",
    "\n",
    "[formatter_formatter]\n",
    "format=%(asctime)s %(name)-12s %(levelname)-8s %(message)s"
   ]
  },
  {
   "cell_type": "markdown",
   "metadata": {},
   "source": [
    "### Example config.ini\n",
    "\n",
    "\n",
    "- Loggers expose the interface that application code directly uses.\n",
    "- Handlers send the log records (created by loggers) to the appropriate destination.\n",
    "- Filters provide a finer grained facility for determining which log records to output.\n",
    "- Formatters specify the layout of log records in the final output.\n",
    "\n",
    "##### [loggers]\n",
    "List all of the loggers used in the application. The root logger is the default. \n",
    "\n",
    "##### [handlers]\n",
    "List all of the handlers used in the application. The stream_handler is the default. \n",
    "\n",
    "##### [formatters]\n",
    "Defines the format of the logging output. As an example, the following format outputs the time, name, logging level, and logging message\n",
    "- format=%(asctime)s %(name)-12s %(levelname)-8s %(message)s\n",
    "\n",
    "##### [logger_root]\n",
    "This is an example of one logger. Additional (custom) loggers may be added below using the naming convention of [logger_new_logger_name]. \n",
    " \n",
    "The logger defines the logging information such as the level (e.g. DEBUG) and associated handlers. Often, there may be a separate logger/s for each python module. These new loggers may be specified to define what output to retain and where to store the output. \n",
    "\n",
    "##### [handler_stream_handler]\n",
    "This is an example of one handler. Additional (custom) handlers may be listed below using the namin convention of [formatter_formatter]\n",
    "\n",
    "Defines the handler information such as the level, format, and args. Handlers are often set to define where to store logging output (e.g. flatfile, database, etc.). \n",
    "\n",
    "Source: https://docs.python.org/2/howto/logging.html"
   ]
  },
  {
   "cell_type": "markdown",
   "metadata": {},
   "source": [
    "#### Read in the logging_config.ini file\n",
    "\n",
    "Note: The logging_config.ini is separate files (in the lesson directory). The code above is an example of the code in the logging file, but not the one we are importing below."
   ]
  },
  {
   "cell_type": "code",
   "execution_count": 2,
   "metadata": {},
   "outputs": [
    {
     "name": "stderr",
     "output_type": "stream",
     "text": [
      "2017-11-26 17:31:38,187 root         DEBUG    Example logging message\n"
     ]
    }
   ],
   "source": [
    "import logging\n",
    "from logging.config import fileConfig\n",
    "\n",
    "# read in the logging configurations\n",
    "fileConfig('logging_config.ini')\n",
    "\n",
    "# instantiate the logger\n",
    "logger = logging.getLogger()\n",
    "\n",
    "# send a logging message to the application\n",
    "logger.debug('Example logging message')"
   ]
  },
  {
   "cell_type": "markdown",
   "metadata": {},
   "source": [
    "## Add a new logger and handler with a different logging level\n",
    "\n",
    "#### In version 2 of the logging_config file we update add a new logger and handler to send output to a local file\n",
    "\n",
    "NOTE: only the sections with modifications are displayed. View logging_config_v2.ini to see the full config file specification."
   ]
  },
  {
   "cell_type": "raw",
   "metadata": {},
   "source": [
    "# logging_config_v2.ini\n",
    "\n",
    "## add new logger - filetest\n",
    "[loggers]\n",
    "keys=root, filetest  \n",
    "\n",
    "\n",
    "## add new handler - file_handler\n",
    "[handlers]\n",
    "keys=stream_handler, file_handler  \n",
    "\n",
    "\n",
    "# create new logger - we can name it anything we want. Here we used the name filetest\n",
    "# we specify to use the new handler which controls where the output goes  \n",
    "[logger_filetest]\n",
    "level=INFO                   # set new logging level\n",
    "handlers=file_handler        # specify new handler\n",
    "qualname=filetest\n",
    "\n",
    "\n",
    "# add new handler - we can name it anything we want. Here we used file_handler\n",
    "# in the args, we specify to send the output to a local file.\n",
    "[handler_file_handler]\n",
    "class=FileHandler            # specify new class\n",
    "level=INFO                   # set new logging level\n",
    "formatter=formatter\n",
    "args=(r\"C:\\Users\\alsherman\\Desktop\\PycharmProjects\\firm_initiatives\\ml_guild\\lessons\\lesson12_logging\\file_handler.txt\",)"
   ]
  },
  {
   "cell_type": "code",
   "execution_count": 45,
   "metadata": {},
   "outputs": [
    {
     "name": "stderr",
     "output_type": "stream",
     "text": [
      "2017-11-26 17:37:05,745 filetest     INFO     Example logging message\n"
     ]
    }
   ],
   "source": [
    "# test new logger - output available in text file specified in the config file.\n",
    "fileConfig('logging_config_v2.ini')\n",
    "logger = logging.getLogger('filetest')\n",
    "logger.info('Example logging message')  # change logger.debug to logger.info"
   ]
  },
  {
   "cell_type": "code",
   "execution_count": 46,
   "metadata": {},
   "outputs": [],
   "source": [
    "# no output displays when we continue to use logger.debug, because we changed the logger\n",
    "# level from debug to info in the config file. INFO is a higher level that debug\n",
    "fileConfig('logging_config_v2.ini')\n",
    "logger = logging.getLogger('filetest')\n",
    "logger.debug('Example logging')"
   ]
  },
  {
   "cell_type": "markdown",
   "metadata": {},
   "source": [
    "## Loggers\n",
    "\n",
    "### Loggers purpose\n",
    "Logger objects have a threefold job. First, they expose several methods to application code so that applications can log messages at runtime. Second, logger objects determine which log messages to act upon based upon severity (the default filtering facility) or filter objects. Third, logger objects pass along relevant log messages to all interested log handlers.\n",
    "\n",
    "### Logging Levels:\n",
    "With logging levels we can set for different message to occur based off the severity of an event. For instance, we may only turn on debugging (DEBUG LEVEL) while fixing code (in place of adding/ removing print statements), always send a confirmation message when a record is inserted into a database (INFO level), but only use logging error messages (ERROR LEVEL) when a exception event occurs\n",
    "\n",
    "##### Logging Levels\n",
    "- DEBUG (lowest)\n",
    "- INFO\n",
    "- WARNING\n",
    "- ERROR\n",
    "- CRITICAL (highest)"
   ]
  },
  {
   "cell_type": "markdown",
   "metadata": {},
   "source": [
    "#### Example logging code from a project, using multiple logging levels\n",
    "**NOTE:** This code will not work. It is just provided as an example. The try except block is used to avoid a NameError."
   ]
  },
  {
   "cell_type": "code",
   "execution_count": 21,
   "metadata": {},
   "outputs": [],
   "source": [
    "try:\n",
    "    # extract text from documents from the input folder and insert into FITARA database\n",
    "    for ind, path in enumerate(yield_document_paths(process.input)):\n",
    "        # files are moved from the input folder to the in progress folder to denote the start of the process\n",
    "        process.move_file(path, new_root='in_progress')\n",
    "\n",
    "        if ind == 0:\n",
    "            logger.info('New documents in queue - update starting')\n",
    "\n",
    "        if DatabaseConnection.determine_if_filename_in_db(filename=path.filename):\n",
    "            # provide user a message when adding a file with an existing name in the db\n",
    "            # timestamps are added to file names to resolve issue of multile files with the same name\n",
    "            # in the SUCCESS and FAILURE folders (e.g. two different files with the name SOW.docx)\n",
    "            logger.warning('A file with the same name exists: {}'.format(path.filename))\n",
    "\n",
    "        # The text extraction code only works for docx files (not pdf or doc)\n",
    "        # If the original file is not a docx then the file must be converted or the file fails.\n",
    "        # Converted files are stored in a separate folder\n",
    "        # The document in the converted files folder is used to extract the text, while the original file moves through\n",
    "        # the process so that after the code completed, users have access to the original file in the success folder.\n",
    "        if path.incorrect_file_type() and not path.file_already_converted(process.converted_files_path):\n",
    "            msg = \"Document failed - please convert (open file and save as docx): {}\".format(path.filename)\n",
    "            logger.warning(msg)\n",
    "            process.move_file(path, new_root='failed')\n",
    "            continue\n",
    "except:\n",
    "    pass"
   ]
  },
  {
   "cell_type": "markdown",
   "metadata": {},
   "source": [
    "### Logging Handlers\n",
    "Handler objects are responsible for dispatching the appropriate log messages (based on the log messages’ severity) to the handler’s specified destination. Logger objects can add zero or more handler objects to themselves with an addHandler() method. As an example scenario, an application may want to send all log messages to a log file, all log messages of error or higher to stdout, and all messages of critical to an email address. This scenario requires three individual handlers where each handler is responsible for sending messages of a specific severity to a specific location.\n",
    "\n",
    "It is, of course, possible to log messages to different destinations. Support is included in the package for writing log messages to files, HTTP GET/POST locations, email via SMTP, generic sockets, or OS-specific logging mechanisms such as syslog or the Windows NT event log. Destinations are served by handler classes. You can create your own log destination class if you have special requirements not met by any of the built-in handler classes.\n",
    "\n",
    " if no destination is set; and if one is not set, they will set a destination of the console (sys.stderr) \n",
    " \n",
    "The standard library includes quite a few handler types (see Useful Handlers); the tutorials use mainly StreamHandler and FileHandler in its examples. Other handlers are listed in the website below."
   ]
  },
  {
   "cell_type": "code",
   "execution_count": 49,
   "metadata": {},
   "outputs": [
    {
     "data": {
      "text/html": [
       "<iframe src=https://docs.python.org/2/howto/logging.html#useful-handlers width=1100 height=300></iframe>"
      ],
      "text/plain": [
       "<IPython.core.display.HTML object>"
      ]
     },
     "execution_count": 49,
     "metadata": {},
     "output_type": "execute_result"
    }
   ],
   "source": [
    "sqlalchemy_url = 'https://docs.python.org/2/howto/logging.html#useful-handlers'\n",
    "iframe = '<iframe src={} width=1100 height=300></iframe>'.format(sqlalchemy_url)\n",
    "HTML(iframe)"
   ]
  },
  {
   "cell_type": "markdown",
   "metadata": {},
   "source": [
    "### Logging Formatters\n",
    "\n",
    "Formatter objects configure the final order, structure, and contents of the log message. "
   ]
  },
  {
   "cell_type": "raw",
   "metadata": {},
   "source": [
    "# logging_config_v3.ini\n",
    "\n",
    "# update the formatter to only include the levelname and message\n",
    "# separate the two outputs by ensuring the levelname always has 30 spaces\n",
    "# (i.e. the message starts at char 31)\n",
    "[formatter_formatter]\n",
    "format=%(levelname)-30s %(message)s"
   ]
  },
  {
   "cell_type": "code",
   "execution_count": 58,
   "metadata": {},
   "outputs": [
    {
     "name": "stderr",
     "output_type": "stream",
     "text": [
      "DEBUG                          Example logging\n"
     ]
    }
   ],
   "source": [
    "# no output displays when we continue to use logger.debug, because we changed the logger\n",
    "# level from debug to info in the config file. INFO is a higher level that debug\n",
    "fileConfig('logging_config_v3.ini')\n",
    "logger = logging.getLogger()\n",
    "logger.debug('Example logging')"
   ]
  },
  {
   "cell_type": "markdown",
   "metadata": {},
   "source": [
    "### Logging Flow\n",
    "\n",
    "# TODO: adding logging flow image"
   ]
  },
  {
   "cell_type": "markdown",
   "metadata": {},
   "source": [
    "### Python Exceptions\n",
    "\n",
    "Even if a statement or expression is syntactically correct, it may cause an error when an attempt is made to execute it. Errors detected during execution are called exceptions and are not unconditionally fatal: \n",
    "\n",
    "#### The try statement works as follows.\n",
    "\n",
    "- First, the try clause (the statement(s) between the try and except keywords) is executed.\n",
    "- If no exception occurs, the except clause is skipped and execution of the try statement is finished.\n",
    "- If an exception occurs during execution of the try clause, the rest of the clause is skipped. Then if its type matches the exception named after the except keyword, the except clause is executed, and then execution continues after the try statement.\n",
    "- If an exception occurs which does not match the exception named in the except clause, it is passed on to outer try statements; if no handler is found, it is an unhandled exception and execution stops with a message as shown above."
   ]
  },
  {
   "cell_type": "markdown",
   "metadata": {},
   "source": [
    "try:\n",
    "    variable_does_not_exist\n",
    "except Exception as e:\n",
    "    logger.error('Please create the variable before using it')"
   ]
  },
  {
   "cell_type": "code",
   "execution_count": 51,
   "metadata": {},
   "outputs": [
    {
     "name": "stderr",
     "output_type": "stream",
     "text": [
      "2017-11-26 18:32:44,556 filetest     ERROR    Please create the variable before using it\n"
     ]
    }
   ],
   "source": [
    "try:\n",
    "    variable_does_not_exist\n",
    "except Exception as e:\n",
    "    logger.error('Please create the variable before using it')"
   ]
  },
  {
   "cell_type": "code",
   "execution_count": 50,
   "metadata": {},
   "outputs": [
    {
     "name": "stderr",
     "output_type": "stream",
     "text": [
      "2017-11-26 18:31:52,760 filetest     ERROR    Please create the variable before using it\n",
      "Traceback (most recent call last):\n",
      "  File \"<ipython-input-50-dc7c61b494f9>\", line 2, in <module>\n",
      "    variable_does_not_exist\n",
      "NameError: name 'variable_does_not_exist' is not defined\n"
     ]
    }
   ],
   "source": [
    "try:\n",
    "    variable_does_not_exist\n",
    "except Exception as e:\n",
    "    logger.error('Please create the variable before using it'\n",
    "                 , exc_info=True)"
   ]
  },
  {
   "cell_type": "markdown",
   "metadata": {},
   "source": [
    "### Error Catching\n",
    "- It is a better practice to be explicit in the exceptions you are catching\n",
    "- here we catch the NameError, but change the actual error to a SyntaxError\n",
    "- by forgetting to add parenthesis after our print statement\n",
    "- thus, we do not catch the error"
   ]
  },
  {
   "cell_type": "code",
   "execution_count": 54,
   "metadata": {},
   "outputs": [
    {
     "ename": "SyntaxError",
     "evalue": "Missing parentheses in call to 'print' (<ipython-input-54-c30b32a36807>, line 2)",
     "output_type": "error",
     "traceback": [
      "\u001b[1;36m  File \u001b[1;32m\"<ipython-input-54-c30b32a36807>\"\u001b[1;36m, line \u001b[1;32m2\u001b[0m\n\u001b[1;33m    print variable_does_not_exist\u001b[0m\n\u001b[1;37m                                ^\u001b[0m\n\u001b[1;31mSyntaxError\u001b[0m\u001b[1;31m:\u001b[0m Missing parentheses in call to 'print'\n"
     ]
    }
   ],
   "source": [
    "try:\n",
    "    print variable_does_not_exist\n",
    "except NameError as e:\n",
    "    logger.error('Please create the variable before using it'\n",
    "                 , exc_info=True)"
   ]
  },
  {
   "cell_type": "code",
   "execution_count": 52,
   "metadata": {},
   "outputs": [
    {
     "data": {
      "text/html": [
       "<iframe src=https://docs.python.org/3/tutorial/errors.html width=1100 height=300></iframe>"
      ],
      "text/plain": [
       "<IPython.core.display.HTML object>"
      ]
     },
     "execution_count": 52,
     "metadata": {},
     "output_type": "execute_result"
    }
   ],
   "source": [
    "sqlalchemy_url = 'https://docs.python.org/3/tutorial/errors.html'\n",
    "iframe = '<iframe src={} width=1100 height=300></iframe>'.format(sqlalchemy_url)\n",
    "HTML(iframe)"
   ]
  },
  {
   "cell_type": "code",
   "execution_count": null,
   "metadata": {
    "collapsed": true
   },
   "outputs": [],
   "source": []
  }
 ],
 "metadata": {
  "kernelspec": {
   "display_name": "Python 3",
   "language": "python",
   "name": "python3"
  },
  "language_info": {
   "codemirror_mode": {
    "name": "ipython",
    "version": 3
   },
   "file_extension": ".py",
   "mimetype": "text/x-python",
   "name": "python",
   "nbconvert_exporter": "python",
   "pygments_lexer": "ipython3",
   "version": "3.6.2"
  }
 },
 "nbformat": 4,
 "nbformat_minor": 2
}
