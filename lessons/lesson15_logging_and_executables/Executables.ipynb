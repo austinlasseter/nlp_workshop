{
 "cells": [
  {
   "cell_type": "markdown",
   "metadata": {},
   "source": [
    "## Executables\n",
    "##### Author: Alex Sherman | alsherman@deloitte.com\n",
    "#### Source:\n",
    "- https://pyinstaller.readthedocs.io/en/stable/usage.html\n",
    "- http://docs.python-guide.org/en/latest/shipping/freezing/#freezing-your-code-ref"
   ]
  },
  {
   "cell_type": "code",
   "execution_count": 2,
   "metadata": {},
   "outputs": [
    {
     "data": {
      "text/html": [
       "<iframe src=http://docs.python-guide.org/en/latest/shipping/freezing/#freezing-your-code-ref width=1100 height=300></iframe>"
      ],
      "text/plain": [
       "<IPython.core.display.HTML object>"
      ]
     },
     "execution_count": 2,
     "metadata": {},
     "output_type": "execute_result"
    }
   ],
   "source": [
    "#### Executables\n",
    "\n",
    "from IPython.core.display import display, HTML\n",
    "sqlalchemy_url = 'http://docs.python-guide.org/en/latest/shipping/freezing/#freezing-your-code-ref'\n",
    "iframe = '<iframe src={} width=1100 height=300></iframe>'.format(sqlalchemy_url)\n",
    "HTML(iframe)"
   ]
  },
  {
   "cell_type": "markdown",
   "metadata": {},
   "source": [
    "## pyinstaller\n",
    "\n",
    "#### Installation:\n",
    "- pip install pyinstaller"
   ]
  },
  {
   "cell_type": "markdown",
   "metadata": {},
   "source": [
    "### Writes myscript.spec in the same folder as the script.\n",
    "- Creates a folder build in the same folder as the script if it does not exist.\n",
    "- Writes some log files and working files in the build folder.\n",
    "- Creates a folder dist in the same folder as the script if it does not exist.\n",
    "- Writes the myscript executable folder in the dist folder.\n",
    "\n",
    "In the dist folder you find the bundled app you distribute to your users."
   ]
  },
  {
   "cell_type": "code",
   "execution_count": null,
   "metadata": {
    "collapsed": true
   },
   "outputs": [],
   "source": []
  },
  {
   "cell_type": "code",
   "execution_count": null,
   "metadata": {
    "collapsed": true
   },
   "outputs": [],
   "source": []
  },
  {
   "cell_type": "markdown",
   "metadata": {
    "collapsed": true
   },
   "source": [
    "### argparse\n"
   ]
  },
  {
   "cell_type": "code",
   "execution_count": null,
   "metadata": {},
   "outputs": [],
   "source": []
  },
  {
   "cell_type": "code",
   "execution_count": null,
   "metadata": {
    "collapsed": true
   },
   "outputs": [],
   "source": []
  }
 ],
 "metadata": {
  "kernelspec": {
   "display_name": "Python 3",
   "language": "python",
   "name": "python3"
  },
  "language_info": {
   "codemirror_mode": {
    "name": "ipython",
    "version": 3
   },
   "file_extension": ".py",
   "mimetype": "text/x-python",
   "name": "python",
   "nbconvert_exporter": "python",
   "pygments_lexer": "ipython3",
   "version": "3.6.2"
  }
 },
 "nbformat": 4,
 "nbformat_minor": 2
}
