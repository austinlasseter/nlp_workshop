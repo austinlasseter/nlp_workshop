{
 "cells": [
  {
   "cell_type": "markdown",
   "metadata": {},
   "source": [
    "# Document Classification"
   ]
  },
  {
   "cell_type": "code",
   "execution_count": 94,
   "metadata": {
    "collapsed": true
   },
   "outputs": [],
   "source": [
    "import pandas as pd\n",
    "from sqlalchemy import create_engine\n",
    "from collections import defaultdict\n",
    "from IPython.core.display import display, HTML\n",
    "from configparser import ConfigParser, ExtendedInterpolation\n",
    "from IPython.display import Image"
   ]
  },
  {
   "cell_type": "code",
   "execution_count": 2,
   "metadata": {
    "collapsed": true
   },
   "outputs": [],
   "source": [
    "# configuration for data, acronyms, and gensim paths\n",
    "config = ConfigParser(interpolation=ExtendedInterpolation())\n",
    "config.read('../../config.ini')\n",
    "\n",
    "DB_PATH = config['DATABASES']['PROJECT_DB_PATH']\n",
    "AIRLINE_ACRONYMS_FILEPATH = config['NLP']['AIRLINE_ACRONYMS_FILEPATH']\n",
    "AIRLINE_MATCHED_TEXT_PATH = config['NLP']['AIRLINE_MATCHED_TEXT_PATH']\n",
    "AIRLINE_CLEANED_TEXT_PATH = config['NLP']['AIRLINE_CLEANED_TEXT_PATH']\n",
    "GENSIM_DICTIONARY_PATH = config['NLP']['GENSIM_DICTIONARY_PATH']\n",
    "GENSIM_CORPUS_PATH = config['NLP']['GENSIM_CORPUS_PATH']"
   ]
  },
  {
   "cell_type": "code",
   "execution_count": 5,
   "metadata": {},
   "outputs": [
    {
     "data": {
      "text/html": [
       "<div>\n",
       "<style>\n",
       "    .dataframe thead tr:only-child th {\n",
       "        text-align: right;\n",
       "    }\n",
       "\n",
       "    .dataframe thead th {\n",
       "        text-align: left;\n",
       "    }\n",
       "\n",
       "    .dataframe tbody tr th {\n",
       "        vertical-align: top;\n",
       "    }\n",
       "</style>\n",
       "<table border=\"1\" class=\"dataframe\">\n",
       "  <thead>\n",
       "    <tr style=\"text-align: right;\">\n",
       "      <th></th>\n",
       "      <th>section_id</th>\n",
       "      <th>filename</th>\n",
       "      <th>section_name</th>\n",
       "      <th>section_text</th>\n",
       "      <th>criteria</th>\n",
       "      <th>section_length</th>\n",
       "    </tr>\n",
       "  </thead>\n",
       "  <tbody>\n",
       "    <tr>\n",
       "      <th>0</th>\n",
       "      <td>1</td>\n",
       "      <td>southwest-airlines-co_annual_report_1994.docx</td>\n",
       "      <td>FIRST SECTION</td>\n",
       "      <td>© 1994 Southwest Airlines Co. This annual repo...</td>\n",
       "      <td>&lt;function heading at 0x000001D4AA492EA0&gt;</td>\n",
       "      <td>83</td>\n",
       "    </tr>\n",
       "    <tr>\n",
       "      <th>1</th>\n",
       "      <td>2</td>\n",
       "      <td>southwest-airlines-co_annual_report_1994.docx</td>\n",
       "      <td>TABLE OF CONTENTS CONSOLIDATED HIGHLIGHTS</td>\n",
       "      <td>(Dollars in thousands except per share amounts...</td>\n",
       "      <td>&lt;function heading at 0x000001D4AA492EA0&gt;</td>\n",
       "      <td>113</td>\n",
       "    </tr>\n",
       "    <tr>\n",
       "      <th>2</th>\n",
       "      <td>3</td>\n",
       "      <td>southwest-airlines-co_annual_report_1994.docx</td>\n",
       "      <td>NET INCOME NET INCOME PER SHARE LOW FARES</td>\n",
       "      <td>Southwest Airlines was built, from the ground ...</td>\n",
       "      <td>&lt;function heading at 0x000001D4AA492EA0&gt;</td>\n",
       "      <td>1553</td>\n",
       "    </tr>\n",
       "    <tr>\n",
       "      <th>3</th>\n",
       "      <td>4</td>\n",
       "      <td>southwest-airlines-co_annual_report_1994.docx</td>\n",
       "      <td>TO OUR SHAREHOLDERS</td>\n",
       "      <td>In 1994, Southwest Airlines produced a profit ...</td>\n",
       "      <td>&lt;function heading at 0x000001D4AA492EA0&gt;</td>\n",
       "      <td>4862</td>\n",
       "    </tr>\n",
       "    <tr>\n",
       "      <th>4</th>\n",
       "      <td>5</td>\n",
       "      <td>southwest-airlines-co_annual_report_1994.docx</td>\n",
       "      <td>LOW COST</td>\n",
       "      <td>Southwest has the lowest cost structure among ...</td>\n",
       "      <td>&lt;function heading at 0x000001D4AA492EA0&gt;</td>\n",
       "      <td>2393</td>\n",
       "    </tr>\n",
       "  </tbody>\n",
       "</table>\n",
       "</div>"
      ],
      "text/plain": [
       "   section_id                                       filename  \\\n",
       "0           1  southwest-airlines-co_annual_report_1994.docx   \n",
       "1           2  southwest-airlines-co_annual_report_1994.docx   \n",
       "2           3  southwest-airlines-co_annual_report_1994.docx   \n",
       "3           4  southwest-airlines-co_annual_report_1994.docx   \n",
       "4           5  southwest-airlines-co_annual_report_1994.docx   \n",
       "\n",
       "                                section_name  \\\n",
       "0                              FIRST SECTION   \n",
       "1  TABLE OF CONTENTS CONSOLIDATED HIGHLIGHTS   \n",
       "2  NET INCOME NET INCOME PER SHARE LOW FARES   \n",
       "3                        TO OUR SHAREHOLDERS   \n",
       "4                                   LOW COST   \n",
       "\n",
       "                                        section_text  \\\n",
       "0  © 1994 Southwest Airlines Co. This annual repo...   \n",
       "1  (Dollars in thousands except per share amounts...   \n",
       "2  Southwest Airlines was built, from the ground ...   \n",
       "3  In 1994, Southwest Airlines produced a profit ...   \n",
       "4  Southwest has the lowest cost structure among ...   \n",
       "\n",
       "                                   criteria  section_length  \n",
       "0  <function heading at 0x000001D4AA492EA0>              83  \n",
       "1  <function heading at 0x000001D4AA492EA0>             113  \n",
       "2  <function heading at 0x000001D4AA492EA0>            1553  \n",
       "3  <function heading at 0x000001D4AA492EA0>            4862  \n",
       "4  <function heading at 0x000001D4AA492EA0>            2393  "
      ]
     },
     "execution_count": 5,
     "metadata": {},
     "output_type": "execute_result"
    }
   ],
   "source": [
    "engine = create_engine(DB_PATH)\n",
    "df = pd.read_sql(\"SELECT * FROM Sections\", con=engine)\n",
    "df.head()"
   ]
  },
  {
   "cell_type": "code",
   "execution_count": 30,
   "metadata": {},
   "outputs": [
    {
     "data": {
      "text/html": [
       "<div>\n",
       "<style>\n",
       "    .dataframe thead tr:only-child th {\n",
       "        text-align: right;\n",
       "    }\n",
       "\n",
       "    .dataframe thead th {\n",
       "        text-align: left;\n",
       "    }\n",
       "\n",
       "    .dataframe tbody tr th {\n",
       "        vertical-align: top;\n",
       "    }\n",
       "</style>\n",
       "<table border=\"1\" class=\"dataframe\">\n",
       "  <thead>\n",
       "    <tr style=\"text-align: right;\">\n",
       "      <th></th>\n",
       "      <th>section_id</th>\n",
       "      <th>filename</th>\n",
       "      <th>section_name</th>\n",
       "      <th>section_text</th>\n",
       "      <th>criteria</th>\n",
       "      <th>section_length</th>\n",
       "      <th>year</th>\n",
       "    </tr>\n",
       "  </thead>\n",
       "  <tbody>\n",
       "    <tr>\n",
       "      <th>0</th>\n",
       "      <td>1</td>\n",
       "      <td>southwest-airlines-co_annual_report_1994.docx</td>\n",
       "      <td>FIRST SECTION</td>\n",
       "      <td>© 1994 Southwest Airlines Co. This annual repo...</td>\n",
       "      <td>&lt;function heading at 0x000001D4AA492EA0&gt;</td>\n",
       "      <td>83</td>\n",
       "      <td>1994</td>\n",
       "    </tr>\n",
       "    <tr>\n",
       "      <th>1</th>\n",
       "      <td>2</td>\n",
       "      <td>southwest-airlines-co_annual_report_1994.docx</td>\n",
       "      <td>TABLE OF CONTENTS CONSOLIDATED HIGHLIGHTS</td>\n",
       "      <td>(Dollars in thousands except per share amounts...</td>\n",
       "      <td>&lt;function heading at 0x000001D4AA492EA0&gt;</td>\n",
       "      <td>113</td>\n",
       "      <td>1994</td>\n",
       "    </tr>\n",
       "    <tr>\n",
       "      <th>2</th>\n",
       "      <td>3</td>\n",
       "      <td>southwest-airlines-co_annual_report_1994.docx</td>\n",
       "      <td>NET INCOME NET INCOME PER SHARE LOW FARES</td>\n",
       "      <td>Southwest Airlines was built, from the ground ...</td>\n",
       "      <td>&lt;function heading at 0x000001D4AA492EA0&gt;</td>\n",
       "      <td>1553</td>\n",
       "      <td>1994</td>\n",
       "    </tr>\n",
       "    <tr>\n",
       "      <th>3</th>\n",
       "      <td>4</td>\n",
       "      <td>southwest-airlines-co_annual_report_1994.docx</td>\n",
       "      <td>TO OUR SHAREHOLDERS</td>\n",
       "      <td>In 1994, Southwest Airlines produced a profit ...</td>\n",
       "      <td>&lt;function heading at 0x000001D4AA492EA0&gt;</td>\n",
       "      <td>4862</td>\n",
       "      <td>1994</td>\n",
       "    </tr>\n",
       "    <tr>\n",
       "      <th>4</th>\n",
       "      <td>5</td>\n",
       "      <td>southwest-airlines-co_annual_report_1994.docx</td>\n",
       "      <td>LOW COST</td>\n",
       "      <td>Southwest has the lowest cost structure among ...</td>\n",
       "      <td>&lt;function heading at 0x000001D4AA492EA0&gt;</td>\n",
       "      <td>2393</td>\n",
       "      <td>1994</td>\n",
       "    </tr>\n",
       "  </tbody>\n",
       "</table>\n",
       "</div>"
      ],
      "text/plain": [
       "   section_id                                       filename  \\\n",
       "0           1  southwest-airlines-co_annual_report_1994.docx   \n",
       "1           2  southwest-airlines-co_annual_report_1994.docx   \n",
       "2           3  southwest-airlines-co_annual_report_1994.docx   \n",
       "3           4  southwest-airlines-co_annual_report_1994.docx   \n",
       "4           5  southwest-airlines-co_annual_report_1994.docx   \n",
       "\n",
       "                                section_name  \\\n",
       "0                              FIRST SECTION   \n",
       "1  TABLE OF CONTENTS CONSOLIDATED HIGHLIGHTS   \n",
       "2  NET INCOME NET INCOME PER SHARE LOW FARES   \n",
       "3                        TO OUR SHAREHOLDERS   \n",
       "4                                   LOW COST   \n",
       "\n",
       "                                        section_text  \\\n",
       "0  © 1994 Southwest Airlines Co. This annual repo...   \n",
       "1  (Dollars in thousands except per share amounts...   \n",
       "2  Southwest Airlines was built, from the ground ...   \n",
       "3  In 1994, Southwest Airlines produced a profit ...   \n",
       "4  Southwest has the lowest cost structure among ...   \n",
       "\n",
       "                                   criteria  section_length  year  \n",
       "0  <function heading at 0x000001D4AA492EA0>              83  1994  \n",
       "1  <function heading at 0x000001D4AA492EA0>             113  1994  \n",
       "2  <function heading at 0x000001D4AA492EA0>            1553  1994  \n",
       "3  <function heading at 0x000001D4AA492EA0>            4862  1994  \n",
       "4  <function heading at 0x000001D4AA492EA0>            2393  1994  "
      ]
     },
     "execution_count": 30,
     "metadata": {},
     "output_type": "execute_result"
    }
   ],
   "source": [
    "df['year'] = df['filename'].apply(lambda x: int(x.split('.')[0][-4:]))\n",
    "df.head()"
   ]
  },
  {
   "cell_type": "markdown",
   "metadata": {},
   "source": [
    "### Document Classification\n",
    "\n",
    "- Identify any section that will discuss fees in the section text, by making a prediction on the section name"
   ]
  },
  {
   "cell_type": "code",
   "execution_count": 43,
   "metadata": {},
   "outputs": [
    {
     "data": {
      "text/plain": [
       "False    2632\n",
       "True      178\n",
       "Name: contains_fee, dtype: int64"
      ]
     },
     "execution_count": 43,
     "metadata": {},
     "output_type": "execute_result"
    }
   ],
   "source": [
    "# set the labels\n",
    "df['contains_fee'] = df['section_text'].str.contains('fee')\n",
    "df['contains_fee'].value_counts()"
   ]
  },
  {
   "cell_type": "markdown",
   "metadata": {},
   "source": [
    "### Data Labeling"
   ]
  },
  {
   "cell_type": "code",
   "execution_count": null,
   "metadata": {
    "collapsed": true
   },
   "outputs": [],
   "source": [
    "- exercise: ask everyone to label the same data under different scenarios\n",
    "    - differing opinion (lack of clear, consistent rules to follow)\n",
    "    - incentive (for a specific role)\n",
    "    - lack of knowledge (provide poor instructions)\n",
    "    - lack of interest (provide time limit to answer)\n",
    "    - bad data (word feel includes fee)"
   ]
  },
  {
   "cell_type": "markdown",
   "metadata": {},
   "source": [
    "##### We are conducting an analysis of fees at Southwest Airlines. Should we include the following paragraph in the analysis (1-10 scale)\n",
    "\n",
    "- lack of knowledge (provide poor instructions - no scale labels for 1 to 10)\n",
    "- differing opinion (lack of clear, consistent rules to follow)\n",
    "\n",
    "\"Other operating expenses consist of distribution costs, advertising expenses, personnel expenses, professional fees, and other operating costs, none of which individually exceed 10 percent of Operating expenses.\"\n",
    "\n",
    "\n",
    "##### We are conducting an analysis of fees at Southwest Airlines. Should we include the following paragraph in the analysis (1-10 scale)\n",
    "\n",
    "In addition to the credit facilities described above, Southwest has an unsecured Bank Credit Agreement with a group of banks that permits Southwest to borrow through May 6, 2002, on a revolving credit basis, up to $475 million. Interest rates on borrowings under the Credit Agreement can be, at the option of Southwest, the greater of the agent bank’s prime rate or the federal funds rate plus .5 percent, .17 percent over LIBOR, or  a fixed rate offered by the banks at the time of borrowing. The commitment fee is .08 percent per annum. There were no outstanding borrowings under this agreement, or prior similar agreements, at December 31, 1997 or 1996.\n",
    "\n",
    "The majority of the Company’s terminal operations space, as well as 95 aircraft, were under operating  leases  at  December 31, 2015. For aircraft operating leases and for terminal operations leases, expense is  included in Aircraft rentals and in Landing fees and other rentals, respectively, in the Consolidated Statement of Income. Future minimum lease payments under capital leases and noncancelable  operating leases and rentals to be received under subleases with initial or remaining terms in excess of one year at December 31, 2015, were:\n",
    "\n",
    "\n",
    "##### Read through the following paragraph about fees, once and only once. Answer the question in 15 seconds or less\n",
    "\n",
    "- bad data (word feel includes fee)\n",
    "- lack of interest (provide time limit to answer)\n",
    "\n",
    "\n",
    "In 2014, Southwest released several updates to its mobile app and website, including the introduction of an updated homepage that allows Customers to quickly view information like flight status, boarding position, and gate information. Travel information is updated in the app beginning 24 hours prior to a flight allowing Customers to checkin and access their mobile boarding pass from the homepage. During 2014, Southwest also completed the rollout of its mobile boarding pass to all U.S. airports that Southwest serves. In addition, Southwest refreshed the look and feel of the app to align with the new visual expression of its brand discussed above under “Other Initiatives - New Livery and Branding and Aggressive Promotion of the Company’s Points of Differentiation from its Competitors.” Additional features and updates are expected in 2015 as mobile demand continues to grow.\n",
    "\n",
    "##### You are a product manager in charge of customer complaints about fees after the Southwest and AirTran merger. Your bonus is tied to the % of complaints about fees after the merger (bonus descrease if the discussion about fees increases). We are measuring the baseline now. Shold we include the following paragraph for Southwest Fees. \n",
    "\n",
    "- incentive (for a specific role)\n",
    "- No, the paragraph is about AirTran\n",
    "\n",
    "During 2014, AirTran offered a user-friendly fare structure that featured a variety of competitive fares and products. Unlike Southwest, AirTran offered a Business Class product. With the exception of Business Class fares, all AirTran fares were nonrefundable, but could be changed prior to departure, subject to payment of a service charge. AirTran Business Class fares were refundable and changeable and included additional perks such as priority boarding, oversized seats with additional leg room, bonus frequent flyer credit, no first or second bag fees, and complimentary cocktails onboard. In addition, AirTran’s Business Class product could be purchased separately or through an upgrade of a non-Business Class fare within 24 hours of travel."
   ]
  },
  {
   "cell_type": "code",
   "execution_count": 70,
   "metadata": {},
   "outputs": [
    {
     "name": "stdout",
     "output_type": "stream",
     "text": [
      "AirTran also offers a user-friendly fare structure that features a variety of competitive fares and products. Unlike Southwest, AirTran currently offers a Business Class product. With the exception of Business Class fares, all AirTran fares are nonrefundable, but can be changed prior to departure, subject to payment of a service charge. AirTran Business Class fares are refundable and changeable and include additional perks such as priority boarding, oversized seats with additional leg room, bonus frequent flyer credit, no first or second bag fees, and complimentary cocktails onboard. In addition, AirTran’s Business Class product can be purchased separately or through an upgrade of a non-Business Class fare within 24 hours of travel.\n",
      "\n",
      "In 2014, Southwest released several updates to its mobile app and website, including the introduction of an updated homepage that allows Customers to quickly view information like flight status, boarding position, and gate information. Travel information is updated in the app beginning 24 hours prior to a flight allowing Customers to checkin and access their mobile boarding pass from the homepage. During 2014, Southwest also completed the rollout of its mobile boarding pass to all U.S. airports that Southwest serves. In addition, Southwest refreshed the look and feel of the app to align with the new visual expression of its brand discussed above under “Other Initiatives - New Livery and Branding and Aggressive Promotion of the Company’s Points of Differentiation from its Competitors.” Additional features and updates are expected in 2015 as mobile demand continues to grow.\n",
      "\n",
      "Other operating expenses consist of distribution costs, advertising expenses, personnel expenses, professional fees, and other operating costs, none of which individually exceed 10 percent of Operating expenses.\n",
      "\n",
      "AirTran also offers a user-friendly fare structure that features a variety of fares based on the length of the Customer’s advance purchase. In addition, AirTran currently offers a Business Class product. With the exception of Business Class fares, all AirTran fares are nonrefundable, but can be changed prior to departure, subject to payment of a service charge. AirTran Business Class fares are refundable and changeable and include additional perks such as priority boarding, oversized seats with additional leg room, bonus frequent flyer credit, no first or second bag fees, and complimentary cocktails onboard. In addition, AirTran’s Business Class product can be purchased separately or through an upgrade of a non-Business Class fare within 24 hours of travel.\n",
      "\n",
      "If the merger is not completed, the ongoing business of the Company may be adversely affected, and the Company will be subject to several risks, including the following: having to pay certain costs relating to the merger, such as legal, accounting, financial advisor and printing fees; and having had the focus of Company management on the merger instead of on pursuing other opportunities that could have been beneficial to the Company. If the merger is not completed, there can be no assurance that these risks will not materialize and will not materially adversely affect the business, financial results and stock price of the Company.\n",
      "\n",
      "In addition to the credit facilities described above, Southwest has an unsecured Bank Credit Agreement with a group of banks that permits Southwest to borrow through May 6, 2002, on a revolving credit basis, up to $475 million. Interest rates on borrowings under the Credit Agreement can be, at the option of Southwest, the greater of the agent bank’s prime rate or the federal funds rate plus .5 percent, .17 percent over LIBOR, or  a fixed rate offered by the banks at the time of borrowing. The commitment fee is .08 percent per annum. There were no outstanding borrowings under this agreement, or prior similar agreements, at December 31, 1997 or 1996.\n",
      "\n",
      "The Company’s fleet included 28 aircraft on capital lease as of December 31, 2015, compared with 16 aircraft on capital lease, including two B717s, as of December 31, 2014. Amounts applicable to these aircraft that are included in property and equipment were: Total rental expense for operating leases, both aircraft and other, charged to operations in 2015, 2014, and 2013 was $909 million, $931 million, and $997 million, respectively. The majority of the Company’s terminal operations space, as well as 95 aircraft, were under operating  leases  at  December 31, 2015. For aircraft operating leases and for terminal operations leases, expense is  included in Aircraft rentals and in Landing fees and other rentals, respectively, in the Consolidated Statement of Income. Future minimum lease payments under capital leases and noncancelable  operating leases and rentals to be received under subleases with initial or remaining terms in excess of one year at December 31, 2015, were:\n",
      "\n",
      "During 2014, AirTran offered a user-friendly fare structure that featured a variety of competitive fares and products. Unlike Southwest, AirTran offered a Business Class product. With the exception of Business Class fares, all AirTran fares were nonrefundable, but could be changed prior to departure, subject to payment of a service charge. AirTran Business Class fares were refundable and changeable and included additional perks such as priority boarding, oversized seats with additional leg room, bonus frequent flyer credit, no first or second bag fees, and complimentary cocktails onboard. In addition, AirTran’s Business Class product could be purchased separately or through an upgrade of a non-Business Class fare within 24 hours of travel.\n",
      "\n",
      "Aircraft rentals .29 .33 (.04) (1 2. 1 )  Landing fees and\n",
      "\n",
      "Salaries, wages, and benefits  . . . . . . . . . . . . . . . . . . . . . . . . . . . 3.62¢ 3.76¢ (.14)¢ (3.7)% Fuel and oil   . . . . . . . . . . . . . . . . . . . . . . . . . . . . . . . . . . . . . . . . 4.68 3.68 1.00 27.2 Maintenance materials and repairs   . . . . . . . . . . . . . . . . . . . . . . .79 .76 .03 3.9 Aircraft rentals  . . . . . . . . . . . . . . . . . . . . . . . . . . . . . . . . . . . . . . .26 .18 .08 44.4 Landing fees and other rentals . . . . . . . . . . . . . . . . . . . . . . . . . . .80 .82 (.02) (2.4) Depreciation and amortization . . . . . . . . . . . . . . . . . . . . . . . . . . .59 .64 (.05) (7.8) Acquisition and integration  . . . . . . . . . . . . . . . . . . . . . . . . . . . . .11 — .11 n.a. Other operating expenses . . . . . . . . . . . . . . . . . . . . . . . . . . . . . . 1.56 1.45 .11 7.6 Total . . . . . . . . . . . . . . . . . . . . . . . . . . . . . . . . . . . . . . . . . . . . . . 12.41¢    11.29¢ 1.12¢ 9.9%\n",
      "\n"
     ]
    }
   ],
   "source": [
    "for text in set(df[df['contains_fee'] == True]['section_text'][0:1000]):\n",
    "    if len(text) < 1000:\n",
    "        print(text)\n",
    "        print()"
   ]
  },
  {
   "cell_type": "markdown",
   "metadata": {},
   "source": [
    "##### Problem Definition - Feasibility"
   ]
  },
  {
   "cell_type": "code",
   "execution_count": null,
   "metadata": {
    "collapsed": true
   },
   "outputs": [],
   "source": []
  },
  {
   "cell_type": "markdown",
   "metadata": {},
   "source": [
    "### Evaluation Metrics\n",
    "\n",
    "Installation: conda install mlxtend"
   ]
  },
  {
   "cell_type": "code",
   "execution_count": 81,
   "metadata": {},
   "outputs": [],
   "source": [
    "from sklearn.metrics import confusion_matrix\n",
    "import matplotlib.pyplot as plt\n",
    "from mlxtend.plotting import plot_confusion_matrix"
   ]
  },
  {
   "cell_type": "markdown",
   "metadata": {},
   "source": [
    "### Confusion Matrix"
   ]
  },
  {
   "cell_type": "code",
   "execution_count": 90,
   "metadata": {},
   "outputs": [
    {
     "data": {
      "text/html": [
       "<iframe src=http://rasbt.github.io/mlxtend/user_guide/evaluate/confusion_matrix/ width=1000 height=400></iframe>"
      ],
      "text/plain": [
       "<IPython.core.display.HTML object>"
      ]
     },
     "execution_count": 90,
     "metadata": {},
     "output_type": "execute_result"
    }
   ],
   "source": [
    "mlxtend_url = 'http://rasbt.github.io/mlxtend/user_guide/evaluate/confusion_matrix/'\n",
    "iframe = '<iframe src={} width=1000 height=400></iframe>'.format(mlxtend_url)\n",
    "HTML(iframe)"
   ]
  },
  {
   "cell_type": "code",
   "execution_count": 89,
   "metadata": {},
   "outputs": [
    {
     "data": {
      "image/png": "[encoded data removed]",
      "text/plain": [
       "<matplotlib.figure.Figure at 0x24b747a69b0>"
      ]
     },
     "metadata": {},
     "output_type": "display_data"
    }
   ],
   "source": [
    "y_true = [1, 0, 1, 1, 0, 1]\n",
    "y_pred = [0, 0, 1, 1, 0, 1]\n",
    "\n",
    "cm = confusion_matrix(y_true, y_pred)\n",
    "fig, ax = plot_confusion_matrix(conf_mat=cm)\n",
    "plt.show()"
   ]
  },
  {
   "cell_type": "code",
   "execution_count": 98,
   "metadata": {},
   "outputs": [
    {
     "data": {
      "image/png": "[encoded data removed]",
      "text/plain": [
       "<IPython.core.display.Image object>"
      ]
     },
     "execution_count": 98,
     "metadata": {
      "image/png": {
       "width": 300
      }
     },
     "output_type": "execute_result"
    }
   ],
   "source": [
    "# confusion matrix\n",
    "Image(\"../../raw_data/images/confusion_matrix.png\", width=300)"
   ]
  },
  {
   "cell_type": "markdown",
   "metadata": {},
   "source": [
    "##### multilabel  confusion matrix"
   ]
  },
  {
   "cell_type": "code",
   "execution_count": 87,
   "metadata": {},
   "outputs": [
    {
     "data": {
      "image/png": "[encoded data removed]",
      "text/plain": [
       "<matplotlib.figure.Figure at 0x24b746fb400>"
      ]
     },
     "metadata": {},
     "output_type": "display_data"
    }
   ],
   "source": [
    "y_true = [2, 0, 2, 2, 0, 1]\n",
    "y_pred = [0, 0, 2, 2, 0, 2]\n",
    "\n",
    "cm = confusion_matrix(y_true, y_pred)\n",
    "\n",
    "fig, ax = plot_confusion_matrix(conf_mat=cm)\n",
    "plt.show()"
   ]
  },
  {
   "cell_type": "code",
   "execution_count": 100,
   "metadata": {},
   "outputs": [
    {
     "data": {
      "image/png": "[encoded data removed]",
      "text/plain": [
       "<IPython.core.display.Image object>"
      ]
     },
     "execution_count": 100,
     "metadata": {
      "image/png": {
       "width": 400
      }
     },
     "output_type": "execute_result"
    }
   ],
   "source": [
    "# confusion matrix multiclass\n",
    "Image(\"../../raw_data/images/confusion_matrix_multiclass.png\", width=400)"
   ]
  },
  {
   "cell_type": "markdown",
   "metadata": {},
   "source": [
    "### Classification Report"
   ]
  },
  {
   "cell_type": "code",
   "execution_count": 104,
   "metadata": {},
   "outputs": [
    {
     "name": "stdout",
     "output_type": "stream",
     "text": [
      "             precision    recall  f1-score   support\n",
      "\n",
      "    class 0       0.50      1.00      0.67         1\n",
      "    class 1       0.00      0.00      0.00         1\n",
      "    class 2       1.00      0.67      0.80         3\n",
      "\n",
      "avg / total       0.70      0.60      0.61         5\n",
      "\n"
     ]
    }
   ],
   "source": [
    "from sklearn.metrics import classification_report\n",
    "y_true = [0, 1, 2, 2, 2]\n",
    "y_pred = [0, 0, 2, 2, 1]\n",
    "target_names = ['class 0', 'class 1', 'class 2']\n",
    "print(classification_report(y_true, y_pred, target_names=target_names))"
   ]
  },
  {
   "cell_type": "code",
   "execution_count": null,
   "metadata": {
    "collapsed": true
   },
   "outputs": [],
   "source": []
  },
  {
   "cell_type": "code",
   "execution_count": 37,
   "metadata": {},
   "outputs": [],
   "source": [
    "from sklearn.feature_extraction.text import TfidfVectorizer\n",
    "from sklearn.linear_model import LogisticRegression, LinearRegression\n",
    "from sklearn.metrics import accuracy_score, mean_squared_error\n",
    "import numpy as np"
   ]
  },
  {
   "cell_type": "code",
   "execution_count": 53,
   "metadata": {
    "collapsed": true
   },
   "outputs": [],
   "source": [
    "# separate the features and response\n",
    "X = df['section_name']\n",
    "y = df['section_length']\n",
    "y_class = df['contains_fee']"
   ]
  },
  {
   "cell_type": "code",
   "execution_count": 54,
   "metadata": {
    "collapsed": true
   },
   "outputs": [],
   "source": [
    "# develop features from the text data\n",
    "vect = TfidfVectorizer()\n",
    "fit_vect = vect.fit_transform(X)"
   ]
  },
  {
   "cell_type": "code",
   "execution_count": 55,
   "metadata": {},
   "outputs": [
    {
     "data": {
      "text/plain": [
       "LogisticRegression(C=1.0, class_weight=None, dual=False, fit_intercept=True,\n",
       "          intercept_scaling=1, max_iter=100, multi_class='ovr', n_jobs=1,\n",
       "          penalty='l2', random_state=None, solver='liblinear', tol=0.0001,\n",
       "          verbose=0, warm_start=False)"
      ]
     },
     "execution_count": 55,
     "metadata": {},
     "output_type": "execute_result"
    }
   ],
   "source": [
    "logreg = LogisticRegression()\n",
    "logreg.fit(fit_vect, y_class)"
   ]
  },
  {
   "cell_type": "code",
   "execution_count": 56,
   "metadata": {},
   "outputs": [
    {
     "data": {
      "text/plain": [
       "0.94128113879003561"
      ]
     },
     "execution_count": 56,
     "metadata": {},
     "output_type": "execute_result"
    }
   ],
   "source": [
    "pred_class = logreg.predict(fit_vect)\n",
    "accuracy_score(pred_class, y_class)"
   ]
  },
  {
   "cell_type": "code",
   "execution_count": 10,
   "metadata": {},
   "outputs": [
    {
     "data": {
      "text/plain": [
       "LinearRegression(copy_X=True, fit_intercept=True, n_jobs=1, normalize=False)"
      ]
     },
     "execution_count": 10,
     "metadata": {},
     "output_type": "execute_result"
    }
   ],
   "source": [
    "# create a regression model to predict the \n",
    "linreg = LinearRegression()\n",
    "linreg.fit(fit_vect, y)"
   ]
  },
  {
   "cell_type": "code",
   "execution_count": null,
   "metadata": {
    "collapsed": true
   },
   "outputs": [],
   "source": [
    "pred = linreg.predict(fit_vect)"
   ]
  },
  {
   "cell_type": "code",
   "execution_count": 15,
   "metadata": {},
   "outputs": [
    {
     "data": {
      "text/plain": [
       "1191.579985168627"
      ]
     },
     "execution_count": 15,
     "metadata": {},
     "output_type": "execute_result"
    }
   ],
   "source": [
    "np.sqrt(mean_squared_error(pred, y))"
   ]
  },
  {
   "cell_type": "code",
   "execution_count": 24,
   "metadata": {},
   "outputs": [
    {
     "data": {
      "text/plain": [
       "2595.3443201394134"
      ]
     },
     "execution_count": 24,
     "metadata": {},
     "output_type": "execute_result"
    }
   ],
   "source": [
    "# baseline accuracy\n",
    "mean = [y.mean() for _ in range(0,len(y))]\n",
    "\n",
    "np.sqrt(mean_squared_error(mean, y))"
   ]
  }
 ],
 "metadata": {
  "kernelspec": {
   "display_name": "Python 3",
   "language": "python",
   "name": "python3"
  },
  "language_info": {
   "codemirror_mode": {
    "name": "ipython",
    "version": 3
   },
   "file_extension": ".py",
   "mimetype": "text/x-python",
   "name": "python",
   "nbconvert_exporter": "python",
   "pygments_lexer": "ipython3",
   "version": "3.6.3"
  }
 },
 "nbformat": 4,
 "nbformat_minor": 2
}
