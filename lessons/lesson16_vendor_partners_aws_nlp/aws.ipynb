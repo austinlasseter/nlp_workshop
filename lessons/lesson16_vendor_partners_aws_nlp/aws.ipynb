{
 "cells": [
  {
   "cell_type": "markdown",
   "metadata": {},
   "source": [
    "# AirBnB Image Analysis - using AWS Rekognition"
   ]
  },
  {
   "cell_type": "code",
   "execution_count": 1,
   "metadata": {
    "collapsed": true
   },
   "outputs": [],
   "source": [
    "import requests\n",
    "import json\n",
    "import boto3\n",
    "import botocore\n",
    "import pandas as pd\n",
    "from io import BytesIO"
   ]
  },
  {
   "cell_type": "code",
   "execution_count": 8,
   "metadata": {},
   "outputs": [
    {
     "data": {
      "text/html": [
       "<div>\n",
       "<style>\n",
       "    .dataframe thead tr:only-child th {\n",
       "        text-align: right;\n",
       "    }\n",
       "\n",
       "    .dataframe thead th {\n",
       "        text-align: left;\n",
       "    }\n",
       "\n",
       "    .dataframe tbody tr th {\n",
       "        vertical-align: top;\n",
       "    }\n",
       "</style>\n",
       "<table border=\"1\" class=\"dataframe\">\n",
       "  <thead>\n",
       "    <tr style=\"text-align: right;\">\n",
       "      <th></th>\n",
       "      <th>id</th>\n",
       "      <th>log_price</th>\n",
       "      <th>property_type</th>\n",
       "      <th>room_type</th>\n",
       "      <th>amenities</th>\n",
       "      <th>accommodates</th>\n",
       "      <th>bathrooms</th>\n",
       "      <th>bed_type</th>\n",
       "      <th>cancellation_policy</th>\n",
       "      <th>cleaning_fee</th>\n",
       "      <th>...</th>\n",
       "      <th>latitude</th>\n",
       "      <th>longitude</th>\n",
       "      <th>name</th>\n",
       "      <th>neighbourhood</th>\n",
       "      <th>number_of_reviews</th>\n",
       "      <th>review_scores_rating</th>\n",
       "      <th>thumbnail_url</th>\n",
       "      <th>zipcode</th>\n",
       "      <th>bedrooms</th>\n",
       "      <th>beds</th>\n",
       "    </tr>\n",
       "  </thead>\n",
       "  <tbody>\n",
       "    <tr>\n",
       "      <th>0</th>\n",
       "      <td>6901257</td>\n",
       "      <td>5.010635</td>\n",
       "      <td>Apartment</td>\n",
       "      <td>Entire home/apt</td>\n",
       "      <td>{\"Wireless Internet\",\"Air conditioning\",Kitche...</td>\n",
       "      <td>3</td>\n",
       "      <td>1.0</td>\n",
       "      <td>Real Bed</td>\n",
       "      <td>strict</td>\n",
       "      <td>True</td>\n",
       "      <td>...</td>\n",
       "      <td>40.696524</td>\n",
       "      <td>-73.991617</td>\n",
       "      <td>Beautiful brownstone 1-bedroom</td>\n",
       "      <td>Brooklyn Heights</td>\n",
       "      <td>2</td>\n",
       "      <td>100.0</td>\n",
       "      <td>https://a0.muscache.com/im/pictures/6d7cbbf7-c...</td>\n",
       "      <td>11201</td>\n",
       "      <td>1.0</td>\n",
       "      <td>1.0</td>\n",
       "    </tr>\n",
       "    <tr>\n",
       "      <th>1</th>\n",
       "      <td>6304928</td>\n",
       "      <td>5.129899</td>\n",
       "      <td>Apartment</td>\n",
       "      <td>Entire home/apt</td>\n",
       "      <td>{\"Wireless Internet\",\"Air conditioning\",Kitche...</td>\n",
       "      <td>7</td>\n",
       "      <td>1.0</td>\n",
       "      <td>Real Bed</td>\n",
       "      <td>strict</td>\n",
       "      <td>True</td>\n",
       "      <td>...</td>\n",
       "      <td>40.766115</td>\n",
       "      <td>-73.989040</td>\n",
       "      <td>Superb 3BR Apt Located Near Times Square</td>\n",
       "      <td>Hell's Kitchen</td>\n",
       "      <td>6</td>\n",
       "      <td>93.0</td>\n",
       "      <td>https://a0.muscache.com/im/pictures/348a55fe-4...</td>\n",
       "      <td>10019</td>\n",
       "      <td>3.0</td>\n",
       "      <td>3.0</td>\n",
       "    </tr>\n",
       "  </tbody>\n",
       "</table>\n",
       "<p>2 rows × 29 columns</p>\n",
       "</div>"
      ],
      "text/plain": [
       "        id  log_price property_type        room_type  \\\n",
       "0  6901257   5.010635     Apartment  Entire home/apt   \n",
       "1  6304928   5.129899     Apartment  Entire home/apt   \n",
       "\n",
       "                                           amenities  accommodates  bathrooms  \\\n",
       "0  {\"Wireless Internet\",\"Air conditioning\",Kitche...             3        1.0   \n",
       "1  {\"Wireless Internet\",\"Air conditioning\",Kitche...             7        1.0   \n",
       "\n",
       "   bed_type cancellation_policy  cleaning_fee  ...    latitude  longitude  \\\n",
       "0  Real Bed              strict          True  ...   40.696524 -73.991617   \n",
       "1  Real Bed              strict          True  ...   40.766115 -73.989040   \n",
       "\n",
       "                                       name     neighbourhood  \\\n",
       "0            Beautiful brownstone 1-bedroom  Brooklyn Heights   \n",
       "1  Superb 3BR Apt Located Near Times Square    Hell's Kitchen   \n",
       "\n",
       "  number_of_reviews review_scores_rating  \\\n",
       "0                 2                100.0   \n",
       "1                 6                 93.0   \n",
       "\n",
       "                                       thumbnail_url zipcode bedrooms  beds  \n",
       "0  https://a0.muscache.com/im/pictures/6d7cbbf7-c...   11201      1.0   1.0  \n",
       "1  https://a0.muscache.com/im/pictures/348a55fe-4...   10019      3.0   3.0  \n",
       "\n",
       "[2 rows x 29 columns]"
      ]
     },
     "execution_count": 8,
     "metadata": {},
     "output_type": "execute_result"
    }
   ],
   "source": [
    "image_urls = pd.read_csv('train.csv')\n",
    "df.head(2)"
   ]
  },
  {
   "cell_type": "markdown",
   "metadata": {},
   "source": [
    "## Amazon S3"
   ]
  },
  {
   "cell_type": "code",
   "execution_count": 3,
   "metadata": {
    "collapsed": true
   },
   "outputs": [],
   "source": [
    "s3_client = boto3.client('s3')\n",
    "s3 = boto3.resource('s3')"
   ]
  },
  {
   "cell_type": "code",
   "execution_count": 4,
   "metadata": {},
   "outputs": [
    {
     "name": "stdout",
     "output_type": "stream",
     "text": [
      "2018-01-22-sagemaker-ajms\n",
      "acloudgurutesting-a\n",
      "airbnb-competition\n"
     ]
    }
   ],
   "source": [
    "# view existing buckets\n",
    "for bucket in s3.buckets.all():\n",
    "    print(bucket.name)"
   ]
  },
  {
   "cell_type": "code",
   "execution_count": 5,
   "metadata": {
    "collapsed": true
   },
   "outputs": [],
   "source": [
    "BUCKET_NAME = 'airbnb-competition' # replace with your bucket name\n",
    "bucket = s3.Bucket(BUCKET_NAME)"
   ]
  },
  {
   "cell_type": "code",
   "execution_count": null,
   "metadata": {
    "collapsed": true
   },
   "outputs": [],
   "source": [
    "image_urls = df['']"
   ]
  },
  {
   "cell_type": "code",
   "execution_count": 9,
   "metadata": {},
   "outputs": [
    {
     "name": "stdout",
     "output_type": "stream",
     "text": [
      "https://a0.muscache.com/im/pictures/6d7cbbf7-c034-459c-bc82-6522c957627c.jpg?aki_policy=large\n",
      "https://a0.muscache.com/im/pictures/348a55fe-4b65-452a-b48a-bfecb3b58a66.jpg?aki_policy=large\n",
      "https://a0.muscache.com/im/pictures/6fae5362-9e3a-4fa9-aa54-bbd5ea26538d.jpg?aki_policy=large\n",
      "https://a0.muscache.com/im/pictures/72208dad-9c86-41ea-a735-43d933111063.jpg?aki_policy=large\n"
     ]
    },
    {
     "ename": "AttributeError",
     "evalue": "'float' object has no attribute 'replace'",
     "output_type": "error",
     "traceback": [
      "\u001b[1;31m---------------------------------------------------------------------------\u001b[0m",
      "\u001b[1;31mAttributeError\u001b[0m                            Traceback (most recent call last)",
      "\u001b[1;32m<ipython-input-9-f7eb2aa1fb94>\u001b[0m in \u001b[0;36m<module>\u001b[1;34m()\u001b[0m\n\u001b[0;32m      1\u001b[0m \u001b[1;32mfor\u001b[0m \u001b[0mind\u001b[0m\u001b[1;33m,\u001b[0m \u001b[0mrow\u001b[0m \u001b[1;32min\u001b[0m \u001b[0mimage_urls\u001b[0m\u001b[1;33m.\u001b[0m\u001b[0miterrows\u001b[0m\u001b[1;33m(\u001b[0m\u001b[1;33m)\u001b[0m\u001b[1;33m:\u001b[0m\u001b[1;33m\u001b[0m\u001b[0m\n\u001b[0;32m      2\u001b[0m     \u001b[0mimg_id\u001b[0m \u001b[1;33m=\u001b[0m \u001b[0mrow\u001b[0m\u001b[1;33m[\u001b[0m\u001b[1;34m'id'\u001b[0m\u001b[1;33m]\u001b[0m\u001b[1;33m\u001b[0m\u001b[0m\n\u001b[1;32m----> 3\u001b[1;33m     \u001b[0mimg_url\u001b[0m \u001b[1;33m=\u001b[0m \u001b[0mrow\u001b[0m\u001b[1;33m[\u001b[0m\u001b[1;34m'thumbnail_url'\u001b[0m\u001b[1;33m]\u001b[0m\u001b[1;33m.\u001b[0m\u001b[0mreplace\u001b[0m\u001b[1;33m(\u001b[0m\u001b[1;34m'small'\u001b[0m\u001b[1;33m,\u001b[0m\u001b[1;34m'large'\u001b[0m\u001b[1;33m)\u001b[0m\u001b[1;33m\u001b[0m\u001b[0m\n\u001b[0m\u001b[0;32m      4\u001b[0m     \u001b[0mprint\u001b[0m\u001b[1;33m(\u001b[0m\u001b[0mimg_url\u001b[0m\u001b[1;33m)\u001b[0m\u001b[1;33m\u001b[0m\u001b[0m\n",
      "\u001b[1;31mAttributeError\u001b[0m: 'float' object has no attribute 'replace'"
     ]
    }
   ],
   "source": [
    "for ind, row in image_urls.iterrows():\n",
    "    img_id = row['id']\n",
    "    img_url = row['thumbnail_url'].replace('small','large')\n",
    "    print(img_url)"
   ]
  },
  {
   "cell_type": "code",
   "execution_count": 10,
   "metadata": {},
   "outputs": [
    {
     "name": "stdout",
     "output_type": "stream",
     "text": [
      "raw_data/images/listing_6901257.jpg\n"
     ]
    }
   ],
   "source": [
    "# put images into s3 bucket\n",
    "\n",
    "image_urls = df[['id','thumbnail_url']][0:1]\n",
    "\n",
    "for ind, row in image_urls.iterrows():\n",
    "    img_id = row['id']\n",
    "    img_url = row['thumbnail_url'].replace('small','large')\n",
    "\n",
    "    # download image\n",
    "    img_data = requests.get(img_url).content\n",
    "    \n",
    "    # create a key name for the image (used in s3 bucket)\n",
    "    img_key_name = 'raw_data/images/listing_{}.jpg'.format(img_id)\n",
    "    print(img_key_name)\n",
    "    \n",
    "    # load image to s3 bucket\n",
    "    s3_client.put_object(Body=img_data, Bucket=BUCKET_NAME, Key=img_key_name)"
   ]
  },
  {
   "cell_type": "markdown",
   "metadata": {},
   "source": [
    "## AWS Rekognition"
   ]
  },
  {
   "cell_type": "code",
   "execution_count": 23,
   "metadata": {
    "collapsed": true
   },
   "outputs": [],
   "source": [
    "rekognition_client = boto3.client('rekognition')"
   ]
  },
  {
   "cell_type": "code",
   "execution_count": 24,
   "metadata": {},
   "outputs": [
    {
     "name": "stdout",
     "output_type": "stream",
     "text": [
      "in_progress/images/listing_6901257.txt\n",
      "in_progress/\n",
      "in_progress/images/listing_6901257.txt\n"
     ]
    }
   ],
   "source": [
    "for obj in bucket.objects.all():\n",
    "    key = obj.key\n",
    "    filename = key.replace('.jpg','.txt').replace('raw_data','in_progress')\n",
    "    print(filename)"
   ]
  },
  {
   "cell_type": "code",
   "execution_count": 39,
   "metadata": {
    "collapsed": true
   },
   "outputs": [],
   "source": [
    "# get images labels (rekognition) and put them in in_progress s3 bucket\n",
    "\n",
    "for obj in bucket.objects.all():\n",
    "    # collect raw images in s3\n",
    "    key = obj.key\n",
    "    filename = key.replace('.jpg','.txt').replace('raw_data','in_progress')\n",
    "    \n",
    "    if '.jpg' in key:\n",
    "        # use rekognition to get labels for images\n",
    "        response = rekognition_client.detect_labels(\n",
    "            Image={'S3Object':{'Bucket':BUCKET_NAME\n",
    "                               ,'Name':key}}\n",
    "        )    \n",
    "        img_labels = str({key:response['Labels']})\n",
    "        \n",
    "        # load image labels to s3 bucket\n",
    "        s3_client.put_object(Body=img_labels, Bucket=BUCKET_NAME, Key=filename)"
   ]
  },
  {
   "cell_type": "code",
   "execution_count": 26,
   "metadata": {},
   "outputs": [
    {
     "data": {
      "text/plain": [
       "\"{'raw_data/images/listing_6901257.jpg': [{'Name': 'Flora', 'Confidence': 99.30709838867188}, {'Name': 'Jar', 'Confidence': 99.30709838867188}, {'Name': 'Plant', 'Confidence': 99.30709838867188}, {'Name': 'Potted Plant', 'Confidence': 99.30709838867188}, {'Name': 'Pottery', 'Confidence': 99.30709838867188}, {'Name': 'Vase', 'Confidence': 99.30709838867188}, {'Name': 'Hearth', 'Confidence': 88.10081481933594}, {'Name': 'Indoors', 'Confidence': 88.08829498291016}, {'Name': 'Room', 'Confidence': 88.08829498291016}, {'Name': 'Fireplace', 'Confidence': 76.58438873291016}, {'Name': 'Office', 'Confidence': 57.91788101196289}, {'Name': 'Interior Design', 'Confidence': 57.2894172668457}, {'Name': 'Kitchen', 'Confidence': 57.2894172668457}, {'Name': 'Furniture', 'Confidence': 57.1688117980957}, {'Name': 'Sideboard', 'Confidence': 54.756832122802734}, {'Name': 'Electronics', 'Confidence': 54.4898796081543}, {'Name': 'Entertainment Center', 'Confidence': 54.4898796081543}, {'Name': 'Box', 'Confidence': 52.95120620727539}, {'Name': 'Crate', 'Confidence': 52.95120620727539}, {'Name': 'Den', 'Confidence': 51.252601623535156}, {'Name': 'Flooring', 'Confidence': 51.170494079589844}, {'Name': 'Living Room', 'Confidence': 50.741912841796875}]}\""
      ]
     },
     "execution_count": 26,
     "metadata": {},
     "output_type": "execute_result"
    }
   ],
   "source": [
    "img_labels"
   ]
  },
  {
   "cell_type": "code",
   "execution_count": 190,
   "metadata": {},
   "outputs": [
    {
     "data": {
      "text/plain": [
       "'raw_data/images/listing_6976.jpg'"
      ]
     },
     "execution_count": 190,
     "metadata": {},
     "output_type": "execute_result"
    }
   ],
   "source": [
    "# example image result\n",
    "s = \"\"\"{\"Records\":[{\"eventVersion\":\"2.0\",\"eventSource\":\"aws:s3\",\"awsRegion\":\"us-east-1\",\"eventTime\":\"2018-02-05T02:07:54.383Z\",\"eventName\":\"ObjectCreated:Put\",\"userIdentity\":{\"principalId\":\"AWS:AIDAJMHK7DP5NVOLFPNPS\"},\"requestParameters\":{\"sourceIPAddress\":\"24.126.7.133\"},\"responseElements\":{\"x-amz-request-id\":\"23F8CC5606EAF66A\",\"x-amz-id-2\":\"iXcwd4HsFmps4wSh2C1k7lh8qW+6YMDRrZYPApTH137Ph2NdTykdTBNHq9TLyZdCX7DVFaQZe/c=\"},\"s3\":{\"s3SchemaVersion\":\"1.0\",\"configurationId\":\"add_image\",\"bucket\":{\"name\":\"airbnb-competition\",\"ownerIdentity\":{\"principalId\":\"A2IHE3SC8NO8AN\"},\"arn\":\"arn:aws:s3:::airbnb-competition\"},\"object\":{\"key\":\"raw_data/images/listing_6976.jpg\",\"size\":27403,\"eTag\":\"3ec001fb09e8b9963e671fc1fb34b5c1\",\"sequencer\":\"005A77BC7A2F5A9A4E\"}}}]}\"\"\"\n",
    "json.loads(s)['Records'][0]['s3']['object']['key']"
   ]
  },
  {
   "cell_type": "code",
   "execution_count": 61,
   "metadata": {},
   "outputs": [
    {
     "data": {
      "text/plain": [
       "'raw_data/images/listing_6901257.jpg'"
      ]
     },
     "execution_count": 61,
     "metadata": {},
     "output_type": "execute_result"
    }
   ],
   "source": [
    "s = dict({'EventSource': 'aws:sns', 'EventVersion': '1.0', 'EventSubscriptionArn': 'arn:aws:sns:us-east-1:923344594760:airbnb_image_analysis:86de8758-065e-4baf-a11c-67da23d168d5', 'Sns': {'Type': 'Notification', 'MessageId': 'c4e8b123-fe4a-53cf-b0b4-e3df6a7dc719', 'TopicArn': 'arn:aws:sns:us-east-1:923344594760:airbnb_image_analysis', 'Subject': 'Amazon S3 Notification', 'Message': '{\"Records\":[{\"eventVersion\":\"2.0\",\"eventSource\":\"aws:s3\",\"awsRegion\":\"us-east-1\",\"eventTime\":\"2018-02-13T07:21:27.767Z\",\"eventName\":\"ObjectCreated:Put\",\"userIdentity\":{\"principalId\":\"AWS:AIDAJMHK7DP5NVOLFPNPS\"},\"requestParameters\":{\"sourceIPAddress\":\"24.126.7.133\"},\"responseElements\":{\"x-amz-request-id\":\"1ED527E322245FF9\",\"x-amz-id-2\":\"P8uf+EbvwA4NgPCzkqzokL5OhVt+f7z+FBmxdnDj1m9UNwsNUjsfUlW6LJFu9FF9vsQr97ogjSs=\"},\"s3\":{\"s3SchemaVersion\":\"1.0\",\"configurationId\":\"add_image\",\"bucket\":{\"name\":\"airbnb-competition\",\"ownerIdentity\":{\"principalId\":\"A2IHE3SC8NO8AN\"},\"arn\":\"arn:aws:s3:::airbnb-competition\"},\"object\":{\"key\":\"raw_data/images/listing_6901257.jpg\",\"size\":32799,\"eTag\":\"a8bec03177a7390fbe82fb54e97d7f90\",\"sequencer\":\"005A8291F750613258\"}}}]}', 'Timestamp': '2018-02-13T07:21:27.823Z', 'SignatureVersion': '1', 'Signature': 'GxNuBe74Kpf3Uncd0BexPnAjkjqRmogKtpPJP4pX6cW1ZLsdoTUXQQ53hwdOhhGDAMhAaqJMLuRJGMtj4iLHQJcbfbPoHVrNQ9YYg3Ug7576WJKa1ptN/Sj1lbqnEiLXKfyviRwF/YhVvhlmMVVxUvkeuCii3YZ78PnxAZjZg9p0cYrJXRjxdb/kZiKWZgf8jBDfSWBsbM5nVgfHf/0Qvg5vM/B8KQBfR9nDg43TeR0KSrCzerqNVMRUVOKMPVideCqmakg/9tRR8qidaE9CfAawYPBW4xzbiGoksUDG02qgLYbXsSVPWLlHCTkFpnhfF1jgz42qyqNxY4lynck01A==', 'SigningCertUrl': 'https://sns.us-east-1.amazonaws.com/SimpleNotificationService-433026a4050d206028891664da859041.pem', 'UnsubscribeUrl': 'https://sns.us-east-1.amazonaws.com/?Action=Unsubscribe&SubscriptionArn=arn:aws:sns:us-east-1:923344594760:airbnb_image_analysis:86de8758-065e-4baf-a11c-67da23d168d5', 'MessageAttributes': {}}})\n",
    "result = s['Sns']['Message']\n",
    "json.loads(result)['Records'][0]['s3']['object']['key']\n",
    "#s['s3']['object']['key']"
   ]
  },
  {
   "cell_type": "markdown",
   "metadata": {},
   "source": [
    "## AWS Comprehend"
   ]
  },
  {
   "cell_type": "code",
   "execution_count": null,
   "metadata": {
    "collapsed": true
   },
   "outputs": [],
   "source": [
    "summary = df[['name','summary','space','description','neighborhood_overview']]\n",
    "summary = summary.iloc[0,:].sum()\n",
    "\n",
    "client = boto3.client('comprehend')\n",
    "\n",
    "response = client.detect_entities(\n",
    "    Text=summary,\n",
    "    LanguageCode='en'\n",
    ")\n",
    "response\n",
    "\n",
    "phrase = client.detect_key_phrases(\n",
    "    Text=summary,\n",
    "    LanguageCode='en'\n",
    ")\n",
    "phrase\n",
    "\n",
    "import json\n",
    "text = json.dumps(phrase)\n",
    "with open('listing1.txt', 'w') as f:\n",
    "    f.write(text)\n",
    "\n",
    "with open('listing1.txt', 'rb') as data:\n",
    "    bucket.upload_fileobj(data, 'in_progress/listing1')"
   ]
  }
 ],
 "metadata": {
  "kernelspec": {
   "display_name": "Python 3",
   "language": "python",
   "name": "python3"
  },
  "language_info": {
   "codemirror_mode": {
    "name": "ipython",
    "version": 3
   },
   "file_extension": ".py",
   "mimetype": "text/x-python",
   "name": "python",
   "nbconvert_exporter": "python",
   "pygments_lexer": "ipython3",
   "version": "3.6.3"
  }
 },
 "nbformat": 4,
 "nbformat_minor": 2
}
